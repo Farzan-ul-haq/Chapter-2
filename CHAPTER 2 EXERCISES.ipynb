{
 "cells": [
  {
   "cell_type": "markdown",
   "metadata": {},
   "source": [
    "# CHAPTER 2\n"
   ]
  },
  {
   "cell_type": "markdown",
   "metadata": {},
   "source": [
    "# Farzan ul haq"
   ]
  },
  {
   "cell_type": "code",
   "execution_count": 1,
   "metadata": {},
   "outputs": [
    {
     "data": {
      "text/plain": [
       "-28"
      ]
     },
     "execution_count": 1,
     "metadata": {},
     "output_type": "execute_result"
    }
   ],
   "source": [
    "#PROBLEM 2.11\n",
    "#(a)\n",
    "lst=[-7,-6,-5,-4,-3,-2,-1]\n",
    "sum(lst)"
   ]
  },
  {
   "cell_type": "code",
   "execution_count": 8,
   "metadata": {},
   "outputs": [
    {
     "data": {
      "text/plain": [
       "10.651685393258427"
      ]
     },
     "execution_count": 8,
     "metadata": {},
     "output_type": "execute_result"
    }
   ],
   "source": [
    "#(b)\n",
    "(9*17+24*10+21*11+27*12)/(17+24+21+27)"
   ]
  },
  {
   "cell_type": "code",
   "execution_count": 7,
   "metadata": {},
   "outputs": [
    {
     "data": {
      "text/plain": [
       "9.5367431640625e-07"
      ]
     },
     "execution_count": 7,
     "metadata": {},
     "output_type": "execute_result"
    }
   ],
   "source": [
    "#(c)\n",
    "2**-20"
   ]
  },
  {
   "cell_type": "code",
   "execution_count": 6,
   "metadata": {},
   "outputs": [
    {
     "data": {
      "text/plain": [
       "265716"
      ]
     },
     "execution_count": 6,
     "metadata": {},
     "output_type": "execute_result"
    }
   ],
   "source": [
    "#(d)\n",
    "61*4356"
   ]
  },
  {
   "cell_type": "code",
   "execution_count": 5,
   "metadata": {},
   "outputs": [
    {
     "data": {
      "text/plain": [
       "34"
      ]
     },
     "execution_count": 5,
     "metadata": {},
     "output_type": "execute_result"
    }
   ],
   "source": [
    "#(e)\n",
    "4365%61"
   ]
  },
  {
   "cell_type": "code",
   "execution_count": 21,
   "metadata": {},
   "outputs": [
    {
     "name": "stdout",
     "output_type": "stream",
     "text": [
      "-+\n",
      "-+-\n",
      "+--\n",
      "+--+--\n",
      "+--+--+--+--+--+--+--+--+--+--+\n",
      "+-+++--+-+++--+-+++--+-+++--+-+++--\n"
     ]
    }
   ],
   "source": [
    "#PROBLEM 2.12\n",
    "s1='-'\n",
    "s2='+'\n",
    "print(s1+s2)\n",
    "print(s1+s2+s1)\n",
    "print(s2+s1+s1)\n",
    "print(2*(s2+s1+s1))\n",
    "print((10*(s2+s1+s1))+s2)\n",
    "print(5*(s2+s1+s2*3+s1*2))"
   ]
  },
  {
   "cell_type": "code",
   "execution_count": 6,
   "metadata": {},
   "outputs": [
    {
     "name": "stdout",
     "output_type": "stream",
     "text": [
      "a\n",
      "c\n",
      "z\n",
      "y\n",
      "s\n"
     ]
    }
   ],
   "source": [
    "#PROBLEM 2.13\n",
    "s = 'abcdefghijklmnopqrstuvwxyz' \n",
    "print(s[0])\n",
    "print(s[2])\n",
    "print(s[25])\n",
    "print(s[24])\n",
    "print(s[18])"
   ]
  },
  {
   "cell_type": "code",
   "execution_count": 8,
   "metadata": {},
   "outputs": [
    {
     "name": "stdout",
     "output_type": "stream",
     "text": [
      "The ﬁrst character of strings is'g' True\n",
      "The seventh character of s is'g' False\n",
      " The ﬁrst two characters of s are'g' and 'a'  False\n",
      "The next to last character of s is 'x' False\n",
      "the middle character of s is 'd' 4\n",
      "the first and last character of string s are equal False\n",
      "the last four characters of string match the sring False\n"
     ]
    }
   ],
   "source": [
    "#PROBLEM 2.14\n",
    "s='goodbye'\n",
    "print(\"The ﬁrst character of strings is'g'\",s[0]=='g')\n",
    "print(\"The seventh character of s is'g'\",s[6]=='g')\n",
    "print(\" The ﬁrst two characters of s are'g' and 'a' \",s[0]=='g' and s[1]=='a')\n",
    "print(\"The next to last character of s is 'x'\",s[-2]=='x')\n",
    "print(\"the middle character of s is 'd'\",(len(s)//2+1))\n",
    "print(\"the first and last character of string s are equal\",s[0]==s[-1])\n",
    "print(\"the last four characters of string match the sring\",s[-4:]=='tion')"
   ]
  },
  {
   "cell_type": "code",
   "execution_count": 21,
   "metadata": {},
   "outputs": [
    {
     "name": "stdout",
     "output_type": "stream",
     "text": [
      "True\n",
      "False\n",
      "False\n",
      "True\n",
      "\n"
     ]
    }
   ],
   "source": [
    "#PROBLEM 2.15\n",
    "print(len('anachronistically')==len(\"counterintuitive\")+1)\n",
    "print('misinterpretation'>'misrepresentation')\n",
    "print('e' in 'floccinaucinihilipilification')\n",
    "print(len('counterrevolution')==len('counter')+len('resolution'))\n"
   ]
  },
  {
   "cell_type": "code",
   "execution_count": 23,
   "metadata": {},
   "outputs": [
    {
     "name": "stdout",
     "output_type": "stream",
     "text": [
      "6 7\n",
      "6.5\n",
      "['paper', 'staples', 'pencils']\n",
      "john fitzgerald kennedy\n"
     ]
    }
   ],
   "source": [
    "#PROBLEM 2.16\n",
    "a,b=6,7\n",
    "print(a,b)\n",
    "c=(a+b)/2\n",
    "print(c)\n",
    "inventory=['paper','staples','pencils']\n",
    "print(inventory)\n",
    "first,middle,last='john','fitzgerald','kennedy'\n",
    "fullname= first+' '+middle+' '+last\n",
    "print(fullname)"
   ]
  },
  {
   "cell_type": "code",
   "execution_count": 34,
   "metadata": {},
   "outputs": [
    {
     "name": "stdout",
     "output_type": "stream",
     "text": [
      "False\n",
      "False\n",
      "True\n",
      "True\n",
      "False\n",
      "False\n"
     ]
    }
   ],
   "source": [
    "#PROBLEM 2.17\n",
    "print(17-9>10)\n",
    "print(len(inventory)>5*len(fullname))\n",
    "print(c<=24)\n",
    "print(a<6.75 and 6.75<b)\n",
    "print(len(middle)>len(first) and len(middle)<len(last))\n",
    "print(len(inventory)==0 or len(inventory)>10)"
   ]
  },
  {
   "cell_type": "code",
   "execution_count": 38,
   "metadata": {},
   "outputs": [
    {
     "name": "stdout",
     "output_type": "stream",
     "text": [
      "False\n",
      "thorny: ['rose', 'bougainvillea', 'yuca']\n",
      "poisionous: ['lilly of the valley']\n",
      "dangerous: ['rose', 'bougainvillea', 'yuca', 'lilly of the valley']\n"
     ]
    }
   ],
   "source": [
    "#PROBLEM 2.18\n",
    "flowers=['rose','bougainvillea','yuca','marigold','daylilly','lilly of the valley']\n",
    "print('potato'in 'flowers')\n",
    "thorny=flowers[:3]\n",
    "poisionous=[flowers[-1]]\n",
    "dangerous=thorny+poisionous\n",
    "print(\"thorny:\",thorny)\n",
    "print(\"poisionous:\",poisionous)\n",
    "print(\"dangerous:\",dangerous)"
   ]
  },
  {
   "cell_type": "code",
   "execution_count": 42,
   "metadata": {},
   "outputs": [
    {
     "name": "stdout",
     "output_type": "stream",
     "text": [
      "5\n",
      "6\n",
      "45.45454545454545\n",
      "['N', 'N', 'N', 'N', 'N', 'N', 'Y', 'Y', 'Y', 'Y', 'Y']\n",
      "6\n"
     ]
    }
   ],
   "source": [
    "#PROBLEM 2.19\n",
    "answers=['Y','N','N','Y','N','Y','Y','Y','N','N','N']\n",
    "numYES=answers.count('Y')\n",
    "print(numYES)\n",
    "numNO=answers.count('N')\n",
    "print(numNO)\n",
    "percentYES=numYES/len(answers)*100\n",
    "print(percentYES)\n",
    "answers.sort()\n",
    "print(answers)\n",
    "x=answers.index('Y')\n",
    "print(x)\n",
    "    \n",
    "\n"
   ]
  },
  {
   "cell_type": "code",
   "execution_count": 43,
   "metadata": {},
   "outputs": [
    {
     "name": "stdout",
     "output_type": "stream",
     "text": [
      "enter a value:ali\n"
     ]
    },
    {
     "data": {
      "text/plain": [
       "'ila'"
      ]
     },
     "execution_count": 43,
     "metadata": {},
     "output_type": "execute_result"
    }
   ],
   "source": [
    "#PROBLEM 2.20\n",
    "s=input(\"enter a value:\")\n",
    "s[::-1]"
   ]
  },
  {
   "cell_type": "code",
   "execution_count": 44,
   "metadata": {},
   "outputs": [
    {
     "name": "stdout",
     "output_type": "stream",
     "text": [
      "enter the author first name: Ljubomir\n",
      "enter the author last name: perkovic\n"
     ]
    },
    {
     "data": {
      "text/plain": [
       "'Lp'"
      ]
     },
     "execution_count": 44,
     "metadata": {},
     "output_type": "execute_result"
    }
   ],
   "source": [
    "#PROBLEM 2.21\n",
    "s=input(\"enter the author first name: \")\n",
    "t=input(\"enter the author last name: \")\n",
    "s[0]+t[0]"
   ]
  },
  {
   "cell_type": "code",
   "execution_count": 47,
   "metadata": {},
   "outputs": [
    {
     "name": "stdout",
     "output_type": "stream",
     "text": [
      "enter the value that go in the list: -5\n",
      "enter the value that go in the list: 50\n",
      "enter the value that go in the list: 99\n",
      "enter the value that go in the list: 2\n",
      "[-5, 50, 99, 2]\n",
      "the largest difference is : 104\n"
     ]
    }
   ],
   "source": [
    "#PROBLEM 2.22\n",
    "lst=[]\n",
    "for i in range(1,5):\n",
    "    x=eval(input(\"enter the value that go in the list: \"))\n",
    "    lst.append(x)\n",
    "print(lst)\n",
    "y=max(lst)-min(lst)\n",
    "print(\"the largest difference is :\",y)"
   ]
  },
  {
   "cell_type": "code",
   "execution_count": 49,
   "metadata": {},
   "outputs": [
    {
     "name": "stdout",
     "output_type": "stream",
     "text": [
      "['jan', 'feb', 'mar', 'apr', 'may']\n",
      "['jan', 'feb', 'mar', 'apr', 'may', 'jun']\n",
      "['jan', 'feb', 'mar', 'apr', 'may']\n",
      "['jan', 'mar', 'apr', 'may']\n",
      "['apr', 'jan', 'mar', 'may']\n"
     ]
    }
   ],
   "source": [
    "#PROBLEM 2.23\n",
    "monthsl=['jan','feb','mar','may']\n",
    "monthst=('jan','feb','mar','may')\n",
    "monthsl.insert(3,'apr')\n",
    "print(monthsl)\n",
    "monthsl.append('jun')\n",
    "print(monthsl)\n",
    "monthsl.pop()\n",
    "print(monthsl)\n",
    "monthsl.remove('feb')\n",
    "print(monthsl)\n",
    "monthsl.sort()\n",
    "print(monthsl)\n"
   ]
  },
  {
   "cell_type": "code",
   "execution_count": 52,
   "metadata": {},
   "outputs": [
    {
     "name": "stdout",
     "output_type": "stream",
     "text": [
      "[4, 4, 2, 2, 1]\n"
     ]
    }
   ],
   "source": [
    "#PROBLEM 2.24\n",
    "grades = ['B','B','F','C','B','A','A','D','C','D','A','A','B'] \n",
    "numberofgrades=[grades.count('A'),grades.count('B'),grades.count('C'),grades.count('D'),grades.count('F')]\n",
    "print(numberofgrades)"
   ]
  },
  {
   "cell_type": "code",
   "execution_count": 53,
   "metadata": {},
   "outputs": [
    {
     "name": "stdout",
     "output_type": "stream",
     "text": [
      "(4, 4, 2, 2, 1)\n"
     ]
    }
   ],
   "source": [
    "#PROBLEM 2.25\n",
    "grades = ('B','B','F','C','B','A','A','D','C','D','A','A','B') \n",
    "numberofgrades=(grades.count('A'),grades.count('B'),grades.count('C'),grades.count('D'),grades.count('F'))\n",
    "print(numberofgrades)"
   ]
  },
  {
   "cell_type": "code",
   "execution_count": 55,
   "metadata": {},
   "outputs": [
    {
     "name": "stdout",
     "output_type": "stream",
     "text": [
      "enter the x coordinate:0\n",
      "enter the y coordinate:0\n",
      "hit\n"
     ]
    }
   ],
   "source": [
    "#PROBLEM 2.26\n",
    "x=eval(input(\"enter the x coordinate:\"))\n",
    "y=eval(input(\"enter the y coordinate:\"))\n",
    "if x**2+y**2<=100:\n",
    "    print(\"hit\")\n",
    "else:\n",
    "    print(\"miss\")"
   ]
  },
  {
   "cell_type": "code",
   "execution_count": 2,
   "metadata": {},
   "outputs": [
    {
     "name": "stdout",
     "output_type": "stream",
     "text": [
      "entre the angle of the ladder in degrees: 75\n",
      "enter the length of the ladder: 16\n",
      "the height is:  15.454813220625093\n",
      "entre the angle of the ladder in degrees: 0\n",
      "enter the length of the ladder: 24\n",
      "the height is:  0.0\n",
      "entre the angle of the ladder in degrees: 45\n",
      "enter the length of the ladder: 24\n",
      "the height is:  16.970562748477143\n",
      "entre the angle of the ladder in degrees: 80\n",
      "enter the length of the ladder: 24\n",
      "the height is:  23.63538607229299\n"
     ]
    }
   ],
   "source": [
    "#PROBLEM 2.27\n",
    "import math\n",
    "for i in range(1,5):\n",
    "    a=eval(input(\"entre the angle of the ladder in degrees: \"))\n",
    "    if a<90:\n",
    "        l=eval(input(\"enter the length of the ladder: \"))\n",
    "        rad=math.pi*a/180\n",
    "        h=l*math.sin(rad)\n",
    "        print(\"the height is: \", h)\n",
    "    else:\n",
    "        print(\"try again\")"
   ]
  },
  {
   "cell_type": "code",
   "execution_count": 14,
   "metadata": {},
   "outputs": [
    {
     "name": "stdout",
     "output_type": "stream",
     "text": [
      "the middle element is:  5\n",
      "the index of the middle element is:  4\n",
      "the reverse of list is:  [9, 8, 7, 6, 5, 4, 3, 2, 1]\n",
      "[2, 3, 4, 5, 6, 7, 8, 9, 1]\n"
     ]
    }
   ],
   "source": [
    "#PROBLEM 2.28\n",
    "lst=[1,2,3,4,5,6,7,8,9]\n",
    "mid=len(lst)//2+1\n",
    "print(\"the middle element is: \",mid)\n",
    "ind=lst.index(mid)\n",
    "print(\"the index of the middle element is: \",ind)\n",
    "lst.sort(reverse=True)\n",
    "print(\"the reverse of list is: \",lst)\n",
    "lst.sort()\n",
    "lst.append(lst.pop(0))\n",
    "print(lst)"
   ]
  },
  {
   "cell_type": "code",
   "execution_count": 18,
   "metadata": {},
   "outputs": [
    {
     "name": "stdout",
     "output_type": "stream",
     "text": [
      "True\n",
      "True\n",
      "True\n"
     ]
    }
   ],
   "source": [
    "#PROBLEM 2.29\n",
    "print(0==(1==2))\n",
    "print((2+(3==4)+5)==7)\n",
    "print((1<-1)==(3>4))\n",
    "#if both expressions are false then false and false=True"
   ]
  },
  {
   "cell_type": "code",
   "execution_count": 21,
   "metadata": {},
   "outputs": [
    {
     "data": {
      "text/plain": [
       "[1, 2, 3, 4]"
      ]
     },
     "execution_count": 21,
     "metadata": {},
     "output_type": "execute_result"
    }
   ],
   "source": [
    "#PROBLEM 2.30\n",
    "s=(1,2,3,4)\n",
    "list(s)"
   ]
  },
  {
   "cell_type": "code",
   "execution_count": null,
   "metadata": {},
   "outputs": [],
   "source": [
    "#PROBLEM 2.31\n",
    "extend=\"it'sa little bit different of (append).this actually does it to add the sublist in the last of the list \"\n",
    "copy=\"copy returns the copy of the list\"\n",
    "clear=\"removes all the element from the list and make the list empty\""
   ]
  }
 ],
 "metadata": {
  "kernelspec": {
   "display_name": "Python 3",
   "language": "python",
   "name": "python3"
  },
  "language_info": {
   "codemirror_mode": {
    "name": "ipython",
    "version": 3
   },
   "file_extension": ".py",
   "mimetype": "text/x-python",
   "name": "python",
   "nbconvert_exporter": "python",
   "pygments_lexer": "ipython3",
   "version": "3.7.3"
  }
 },
 "nbformat": 4,
 "nbformat_minor": 2
}
